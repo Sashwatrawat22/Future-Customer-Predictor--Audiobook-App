{
 "cells": [
  {
   "cell_type": "raw",
   "id": "63337c27",
   "metadata": {},
   "source": [
    "Importing Libraries and Loading Dataset"
   ]
  },
  {
   "cell_type": "code",
   "execution_count": 1,
   "id": "076eceac",
   "metadata": {},
   "outputs": [],
   "source": [
    "import numpy as np\n",
    "from sklearn import preprocessing   # sklearn preprocessing library to standardize the data.\n",
    "import tensorflow as tf\n",
    "\n",
    "# Load the data\n",
    "raw_csv_data = np.loadtxt('Audiobooks_data.csv',delimiter=',')\n",
    "\n",
    "\n",
    "#leaving the IDs and target column as IDs contribute nothing to our model training and targets are to be compared after we train our model\n",
    "unscaled_inputs_all = raw_csv_data[:,1:-1]\n",
    "\n",
    "# The targets are in the last column. That's how datasets are conventionally organized.\n",
    "targets_all = raw_csv_data[:,-1]"
   ]
  },
  {
   "cell_type": "code",
   "execution_count": 2,
   "id": "0dd67524",
   "metadata": {},
   "outputs": [],
   "source": [
    "#Balancing the dataset\n",
    "\n",
    "# Count how many targets are 1 (meaning that the customer did convert)\n",
    "num_one_targets = int(np.sum(targets_all))\n",
    "zero_targets_counter = 0\n",
    "\n",
    "# We want to create a \"balanced\" dataset, so we will have to remove some input/target pairs\n",
    "indices_to_remove = []\n",
    "for i in range(targets_all.shape[0]):\n",
    "    if targets_all[i] == 0:\n",
    "        zero_targets_counter += 1\n",
    "        if zero_targets_counter > num_one_targets:\n",
    "            indices_to_remove.append(i)\n",
    "\n",
    "unscaled_inputs_equal_priors = np.delete(unscaled_inputs_all, indices_to_remove, axis=0)\n",
    "targets_equal_priors = np.delete(targets_all, indices_to_remove, axis=0)"
   ]
  },
  {
   "cell_type": "code",
   "execution_count": 3,
   "id": "63082ba6",
   "metadata": {},
   "outputs": [],
   "source": [
    "#Standardizing the inputs\n",
    "scaled_inputs = preprocessing.scale(unscaled_inputs_equal_priors)\n",
    "\n",
    "#Shuffling the data\n",
    "shuffled_indices = np.arange(scaled_inputs.shape[0])\n",
    "np.random.shuffle(shuffled_indices)\n",
    "\n",
    "# Use the shuffled indices to shuffle the inputs and targets.\n",
    "shuffled_inputs = scaled_inputs[shuffled_indices]\n",
    "shuffled_targets = targets_equal_priors[shuffled_indices]"
   ]
  },
  {
   "cell_type": "raw",
   "id": "38173ad8",
   "metadata": {},
   "source": [
    "Split the dataset into train, validation and test into 80-10-10 ratio"
   ]
  },
  {
   "cell_type": "code",
   "execution_count": 4,
   "id": "d09c46e7",
   "metadata": {},
   "outputs": [],
   "source": [
    "samples_count = shuffled_inputs.shape[0]\n",
    "\n",
    "\n",
    "train_samples_count = int(0.8 * samples_count)\n",
    "validation_samples_count = int(0.1 * samples_count)\n",
    "test_samples_count = samples_count - train_samples_count - validation_samples_count\n",
    "\n",
    "# Create variables that record the inputs and targets for training\n",
    "train_inputs = shuffled_inputs[:train_samples_count]\n",
    "train_targets = shuffled_targets[:train_samples_count]\n",
    "\n",
    "# Create variables that record the inputs and targets for validation.\n",
    "validation_inputs = shuffled_inputs[train_samples_count:train_samples_count+validation_samples_count]\n",
    "validation_targets = shuffled_targets[train_samples_count:train_samples_count+validation_samples_count]\n",
    "\n",
    "# Create variables that record the inputs and targets for test.\n",
    "test_inputs = shuffled_inputs[train_samples_count+validation_samples_count:]\n",
    "test_targets = shuffled_targets[train_samples_count+validation_samples_count:]"
   ]
  },
  {
   "cell_type": "raw",
   "id": "19ae2054",
   "metadata": {},
   "source": [
    "Model\n",
    "\n",
    "Outline, optimizers, loss, early stopping and training"
   ]
  },
  {
   "cell_type": "code",
   "execution_count": 5,
   "id": "6b22f741",
   "metadata": {},
   "outputs": [
    {
     "name": "stdout",
     "output_type": "stream",
     "text": [
      "Epoch 1/100\n",
      "36/36 - 1s - loss: 0.6059 - accuracy: 0.6421 - val_loss: 0.5448 - val_accuracy: 0.6935\n",
      "Epoch 2/100\n",
      "36/36 - 0s - loss: 0.4813 - accuracy: 0.7527 - val_loss: 0.4697 - val_accuracy: 0.7696\n",
      "Epoch 3/100\n",
      "36/36 - 0s - loss: 0.4218 - accuracy: 0.7871 - val_loss: 0.4326 - val_accuracy: 0.7539\n",
      "Epoch 4/100\n",
      "36/36 - 0s - loss: 0.3943 - accuracy: 0.7843 - val_loss: 0.3964 - val_accuracy: 0.7964\n",
      "Epoch 5/100\n",
      "36/36 - 0s - loss: 0.3746 - accuracy: 0.7977 - val_loss: 0.3862 - val_accuracy: 0.8031\n",
      "Epoch 6/100\n",
      "36/36 - 0s - loss: 0.3644 - accuracy: 0.8005 - val_loss: 0.3738 - val_accuracy: 0.8098\n",
      "Epoch 7/100\n",
      "36/36 - 0s - loss: 0.3579 - accuracy: 0.7994 - val_loss: 0.3777 - val_accuracy: 0.8233\n",
      "Epoch 8/100\n",
      "36/36 - 0s - loss: 0.3517 - accuracy: 0.8050 - val_loss: 0.3555 - val_accuracy: 0.8277\n",
      "Epoch 9/100\n",
      "36/36 - 0s - loss: 0.3478 - accuracy: 0.8072 - val_loss: 0.3590 - val_accuracy: 0.8121\n",
      "Epoch 10/100\n",
      "36/36 - 0s - loss: 0.3424 - accuracy: 0.8161 - val_loss: 0.3452 - val_accuracy: 0.8367\n",
      "Epoch 11/100\n",
      "36/36 - 0s - loss: 0.3405 - accuracy: 0.8106 - val_loss: 0.3504 - val_accuracy: 0.8188\n",
      "Epoch 12/100\n",
      "36/36 - 0s - loss: 0.3376 - accuracy: 0.8089 - val_loss: 0.3427 - val_accuracy: 0.8188\n",
      "Epoch 13/100\n",
      "36/36 - 0s - loss: 0.3354 - accuracy: 0.8201 - val_loss: 0.3367 - val_accuracy: 0.8345\n",
      "Epoch 14/100\n",
      "36/36 - 0s - loss: 0.3353 - accuracy: 0.8234 - val_loss: 0.3407 - val_accuracy: 0.8322\n",
      "Epoch 15/100\n",
      "36/36 - 0s - loss: 0.3371 - accuracy: 0.8117 - val_loss: 0.3444 - val_accuracy: 0.8233\n"
     ]
    },
    {
     "data": {
      "text/plain": [
       "<keras.callbacks.History at 0x1594ca21bb0>"
      ]
     },
     "execution_count": 5,
     "metadata": {},
     "output_type": "execute_result"
    }
   ],
   "source": [
    "input_size = 10\n",
    "output_size = 2\n",
    "\n",
    "hidden_layer_size = 50\n",
    "    \n",
    "# define how the model will look like\n",
    "model = tf.keras.Sequential([\n",
    "    # tf.keras.layers.Dense is basically implementing: output = activation(dot(input, weight) + bias)\n",
    "    # it takes several arguments, but the most important ones for us are the hidden_layer_size and the activation function\n",
    "    tf.keras.layers.Dense(hidden_layer_size, activation='relu'), # 1st hidden layer\n",
    "    tf.keras.layers.Dense(hidden_layer_size, activation='relu'), # 2nd hidden layer\n",
    "    tf.keras.layers.Dense(output_size, activation='softmax') # output layer\n",
    "])\n",
    "\n",
    "\n",
    "### Choose the optimizer and the loss function and the metrics we are interested in obtaining at each iteration\n",
    "model.compile(optimizer='adam', loss='sparse_categorical_crossentropy', metrics=['accuracy'])\n",
    "\n",
    "\n",
    "### Training\n",
    "batch_size = 100\n",
    "max_epochs = 100   # epochs that we will train for (assuming early stopping doesn't kick in)\n",
    "\n",
    "# set an early stopping mechanism\n",
    "# let's set patience=2, to be a bit tolerant against random validation loss increases\n",
    "early_stopping = tf.keras.callbacks.EarlyStopping(patience=2)\n",
    "\n",
    "# fit the model\n",
    "# note that this time the train, validation and test data are not iterable\n",
    "model.fit(train_inputs, train_targets, batch_size=batch_size, epochs=max_epochs, \n",
    "          # callbacks are functions called by a task when a task is completed\n",
    "          # task here is to check if val_loss is increasing\n",
    "          callbacks=[early_stopping],\n",
    "          validation_data=(validation_inputs, validation_targets),\n",
    "          verbose = 2 # making sure we get enough information about the training process\n",
    "          )  "
   ]
  },
  {
   "cell_type": "code",
   "execution_count": 6,
   "id": "87c4860b",
   "metadata": {},
   "outputs": [
    {
     "name": "stdout",
     "output_type": "stream",
     "text": [
      "14/14 [==============================] - 0s 2ms/step - loss: 0.3222 - accuracy: 0.8348\n",
      "\n",
      "Test loss: 0.32. Test accuracy: 83.48%\n"
     ]
    }
   ],
   "source": [
    "#Testing the Model\n",
    "test_loss, test_accuracy = model.evaluate(test_inputs, test_targets)\n",
    "print('\\nTest loss: {0:.2f}. Test accuracy: {1:.2f}%'.format(test_loss, test_accuracy*100.))"
   ]
  },
  {
   "cell_type": "raw",
   "id": "39334d60",
   "metadata": {},
   "source": [
    "The test accuracy is around 80% so our Model can predict the correct case 8 out of 10 times."
   ]
  },
  {
   "cell_type": "raw",
   "id": "87953cbb",
   "metadata": {},
   "source": [
    "The main idea is that if a customer has a low probability of coming back, there is no reason to spend any money on advertizing \n",
    "to him/her. If we can focus our efforts ONLY on customers that are likely to convert again, we can make great savings. \n",
    "Moreover, this model can identify the most important metrics for a customer to come back again. Identifying new customers \n",
    "creates value and growth opportunities.\n",
    "\n",
    "So our target are those 80% the model has found and so we can improve the business."
   ]
  }
 ],
 "metadata": {
  "kernelspec": {
   "display_name": "Python 3 (ipykernel)",
   "language": "python",
   "name": "python3"
  },
  "language_info": {
   "codemirror_mode": {
    "name": "ipython",
    "version": 3
   },
   "file_extension": ".py",
   "mimetype": "text/x-python",
   "name": "python",
   "nbconvert_exporter": "python",
   "pygments_lexer": "ipython3",
   "version": "3.9.12"
  }
 },
 "nbformat": 4,
 "nbformat_minor": 5
}
